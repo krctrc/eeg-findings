{
  "nbformat": 4,
  "nbformat_minor": 0,
  "metadata": {
    "colab": {
      "name": "AlpacaJapan.ipynb",
      "version": "0.3.2",
      "provenance": [],
      "collapsed_sections": [],
      "include_colab_link": true
    },
    "kernelspec": {
      "name": "python3",
      "display_name": "Python 3"
    }
  },
  "cells": [
    {
      "cell_type": "markdown",
      "metadata": {
        "id": "view-in-github",
        "colab_type": "text"
      },
      "source": [
        "<a href=\"https://colab.research.google.com/github/krctrc/eeg-findings/blob/master/AlpacaJapan.ipynb\" target=\"_parent\"><img src=\"https://colab.research.google.com/assets/colab-badge.svg\" alt=\"Open In Colab\"/></a>"
      ]
    },
    {
      "cell_type": "code",
      "metadata": {
        "id": "oWzEDa8VhTii",
        "colab_type": "code",
        "colab": {}
      },
      "source": [
        "import time"
      ],
      "execution_count": 0,
      "outputs": []
    },
    {
      "cell_type": "code",
      "metadata": {
        "id": "oHQqPEPekQfI",
        "colab_type": "code",
        "colab": {}
      },
      "source": [
        "start = time.time()"
      ],
      "execution_count": 0,
      "outputs": []
    },
    {
      "cell_type": "code",
      "metadata": {
        "id": "6pQIyR64kQht",
        "colab_type": "code",
        "colab": {}
      },
      "source": [
        "import pandas\n",
        "import numpy\n"
      ],
      "execution_count": 0,
      "outputs": []
    },
    {
      "cell_type": "code",
      "metadata": {
        "id": "oddS5NeTkQoq",
        "colab_type": "code",
        "colab": {}
      },
      "source": [
        "from sklearn.cluster import KMeans"
      ],
      "execution_count": 0,
      "outputs": []
    },
    {
      "cell_type": "code",
      "metadata": {
        "id": "cTRpjNsUkQqo",
        "colab_type": "code",
        "colab": {}
      },
      "source": [
        "# if number of clusters f and data are taken for f kmeans cluster\n",
        "def calculatekmeans(data,f):\n",
        "  kmeans = KMeans(n_clusters=f).fit(data);\n",
        "  centroids = kmeans.cluster_centers_ ;\n",
        "  print(centroids);\n",
        "  return"
      ],
      "execution_count": 0,
      "outputs": []
    },
    {
      "cell_type": "code",
      "metadata": {
        "id": "QEW_wvyQoCiM",
        "colab_type": "code",
        "colab": {}
      },
      "source": [
        "import matplotlib.pyplot as plt"
      ],
      "execution_count": 0,
      "outputs": []
    },
    {
      "cell_type": "code",
      "metadata": {
        "id": "TIewGGuPn8_u",
        "colab_type": "code",
        "colab": {}
      },
      "source": [
        "def visualise(data,an):\n",
        "  plt.scatter(data[:, 0], data[:, 1], c= kmeans.labels_.astype(float), s=sn, alpha=0.5);\n",
        "  plt.scatter(centroids[:, 0], centroids[:, 1], c='blue', s=an);\n",
        "  return"
      ],
      "execution_count": 0,
      "outputs": []
    },
    {
      "cell_type": "code",
      "metadata": {
        "id": "L-IBHr2qsiiy",
        "colab_type": "code",
        "colab": {}
      },
      "source": [
        "end = time.time()"
      ],
      "execution_count": 0,
      "outputs": []
    },
    {
      "cell_type": "code",
      "metadata": {
        "id": "15eY9Jgssk3x",
        "colab_type": "code",
        "colab": {}
      },
      "source": [
        "elapsedtime = end-start"
      ],
      "execution_count": 0,
      "outputs": []
    },
    {
      "cell_type": "code",
      "metadata": {
        "id": "EzegaQmVsrDi",
        "colab_type": "code",
        "colab": {
          "base_uri": "https://localhost:8080/",
          "height": 34
        },
        "outputId": "179daf8a-80d3-4ccd-c965-09424334311c"
      },
      "source": [
        "elapsedtime/60 #minutes"
      ],
      "execution_count": 13,
      "outputs": [
        {
          "output_type": "execute_result",
          "data": {
            "text/plain": [
              "35.89034806887309"
            ]
          },
          "metadata": {
            "tags": []
          },
          "execution_count": 13
        }
      ]
    },
    {
      "cell_type": "code",
      "metadata": {
        "id": "q5lQptOEn9F8",
        "colab_type": "code",
        "colab": {}
      },
      "source": [
        "#kmeans with 3 clusters and visualize area with 100 scale\n",
        "calculatekmeans(data,3)\n",
        "visualize(data,100)"
      ],
      "execution_count": 0,
      "outputs": []
    }
  ]
}